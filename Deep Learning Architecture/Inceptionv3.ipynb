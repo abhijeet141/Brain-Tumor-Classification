{
 "cells": [
  {
   "cell_type": "markdown",
   "id": "c0a0af18",
   "metadata": {},
   "source": [
    "## Importing the necessary libraries"
   ]
  },
  {
   "cell_type": "code",
   "execution_count": 1,
   "id": "c945eb34",
   "metadata": {
    "tags": []
   },
   "outputs": [
    {
     "name": "stderr",
     "output_type": "stream",
     "text": [
      "C:\\Users\\abhij\\AppData\\Local\\Temp\\ipykernel_13948\\4019452423.py:3: DeprecationWarning: \n",
      "Pyarrow will become a required dependency of pandas in the next major release of pandas (pandas 3.0),\n",
      "(to allow more performant data types, such as the Arrow string type, and better interoperability with other libraries)\n",
      "but was not found to be installed on your system.\n",
      "If this would cause problems for you,\n",
      "please provide us feedback at https://github.com/pandas-dev/pandas/issues/54466\n",
      "        \n",
      "  import pandas as pd\n"
     ]
    }
   ],
   "source": [
    "import os\n",
    "import numpy as np\n",
    "import pandas as pd \n",
    "import matplotlib.pyplot as plt\n",
    "%matplotlib inline\n",
    "from matplotlib.image import imread\n",
    "from tensorflow.keras.preprocessing.image import ImageDataGenerator\n",
    "from tensorflow.keras.models import Sequential\n",
    "from tensorflow.keras.callbacks import EarlyStopping\n",
    "from tensorflow.keras.layers import Dense, BatchNormalization, Dropout\n",
    "from tensorflow.keras.losses import CategoricalCrossentropy\n",
    "from tensorflow.keras.optimizers import Adam \n",
    "import tensorflow_hub as hub\n",
    "from tensorflow.keras.preprocessing import image"
   ]
  },
  {
   "cell_type": "markdown",
   "id": "9211e1c8",
   "metadata": {},
   "source": [
    "## Getting the path of the training and testing data of the brain tumor dataset"
   ]
  },
  {
   "cell_type": "code",
   "execution_count": 2,
   "id": "dda7cd1f",
   "metadata": {
    "tags": []
   },
   "outputs": [],
   "source": [
    "dataset_directory_location = r'C:\\Users\\abhij\\Desktop\\Image Classification\\braintumordataset'"
   ]
  },
  {
   "cell_type": "code",
   "execution_count": 3,
   "id": "1951ce5e",
   "metadata": {
    "tags": []
   },
   "outputs": [
    {
     "data": {
      "text/plain": [
       "['Testing', 'Training', 'Validation']"
      ]
     },
     "execution_count": 3,
     "metadata": {},
     "output_type": "execute_result"
    }
   ],
   "source": [
    "os.listdir(dataset_directory_location)"
   ]
  },
  {
   "cell_type": "code",
   "execution_count": 4,
   "id": "eef04aba",
   "metadata": {
    "tags": []
   },
   "outputs": [],
   "source": [
    "train_dataset_location = os.path.join(dataset_directory_location, 'Training')\n",
    "valid_dataset_location = os.path.join(dataset_directory_location, 'Validation')\n",
    "test_dataset_location = os.path.join(dataset_directory_location, 'Testing')"
   ]
  },
  {
   "cell_type": "code",
   "execution_count": 5,
   "id": "283b1e1b",
   "metadata": {
    "tags": []
   },
   "outputs": [
    {
     "data": {
      "text/plain": [
       "['glioma', 'meningioma', 'notumor', 'pituitary']"
      ]
     },
     "execution_count": 5,
     "metadata": {},
     "output_type": "execute_result"
    }
   ],
   "source": [
    "os.listdir(train_dataset_location)"
   ]
  },
  {
   "cell_type": "code",
   "execution_count": 6,
   "id": "c72637fa",
   "metadata": {
    "tags": []
   },
   "outputs": [
    {
     "data": {
      "text/plain": [
       "['glioma', 'meningioma', 'notumor', 'pituitary']"
      ]
     },
     "execution_count": 6,
     "metadata": {},
     "output_type": "execute_result"
    }
   ],
   "source": [
    "os.listdir(test_dataset_location)"
   ]
  },
  {
   "cell_type": "code",
   "execution_count": 7,
   "id": "71823297-bd53-47bc-9a18-3ccf6c413b21",
   "metadata": {
    "tags": []
   },
   "outputs": [
    {
     "data": {
      "text/plain": [
       "['glioma', 'meningioma', 'notumor', 'pituitary']"
      ]
     },
     "execution_count": 7,
     "metadata": {},
     "output_type": "execute_result"
    }
   ],
   "source": [
    "os.listdir(valid_dataset_location)"
   ]
  },
  {
   "cell_type": "markdown",
   "id": "32371896",
   "metadata": {},
   "source": [
    "## Defining the correct shape of the image"
   ]
  },
  {
   "cell_type": "code",
   "execution_count": 8,
   "id": "f7eddc05",
   "metadata": {
    "tags": []
   },
   "outputs": [],
   "source": [
    "correct_image_shape = (224, 224, 3)"
   ]
  },
  {
   "cell_type": "markdown",
   "id": "ac8e3394",
   "metadata": {},
   "source": [
    "## Defining the ImageGenerator and performing Data Augmentation"
   ]
  },
  {
   "cell_type": "code",
   "execution_count": 9,
   "id": "c3fdcd17",
   "metadata": {
    "tags": []
   },
   "outputs": [],
   "source": [
    "train_datagen = ImageDataGenerator(\n",
    "    rotation_range=10,\n",
    "    width_shift_range=0.1,\n",
    "    height_shift_range=0.1,\n",
    "    zoom_range=0.2,\n",
    "    horizontal_flip=True,\n",
    "    vertical_flip=True,\n",
    "    brightness_range=[0.5, 1.5],\n",
    "    shear_range=0.2,\n",
    "    rescale=1./255\n",
    ")\n",
    "test_datagen = ImageDataGenerator(\n",
    "    rescale=1./255\n",
    ")\n",
    "\n",
    "val_datagen = ImageDataGenerator(\n",
    "    rescale=1./255\n",
    ")"
   ]
  },
  {
   "cell_type": "code",
   "execution_count": 10,
   "id": "e1eb6ff1",
   "metadata": {
    "tags": []
   },
   "outputs": [
    {
     "name": "stdout",
     "output_type": "stream",
     "text": [
      "Found 5617 images belonging to 4 classes.\n",
      "Found 703 images belonging to 4 classes.\n",
      "Found 703 images belonging to 4 classes.\n"
     ]
    }
   ],
   "source": [
    "train_generator = train_datagen.flow_from_directory(\n",
    "    train_dataset_location,\n",
    "    target_size=correct_image_shape[:2],\n",
    "    batch_size=32,\n",
    "    color_mode='rgb', \n",
    "    class_mode='categorical'\n",
    ")\n",
    "val_generator = val_datagen.flow_from_directory(\n",
    "    valid_dataset_location,\n",
    "    target_size=correct_image_shape[:2],\n",
    "    batch_size=32,\n",
    "    color_mode='rgb', \n",
    "    class_mode='categorical'\n",
    ")\n",
    "test_generator = test_datagen.flow_from_directory(\n",
    "    test_dataset_location,\n",
    "    target_size=correct_image_shape[:2],\n",
    "    color_mode='rgb', \n",
    "    batch_size=32,\n",
    "    class_mode='categorical'\n",
    ")"
   ]
  },
  {
   "cell_type": "markdown",
   "id": "882432fb",
   "metadata": {},
   "source": [
    "## Creating and training the model"
   ]
  },
  {
   "cell_type": "code",
   "execution_count": 11,
   "id": "d1684d33",
   "metadata": {
    "tags": []
   },
   "outputs": [],
   "source": [
    "model = Sequential()"
   ]
  },
  {
   "cell_type": "code",
   "execution_count": 12,
   "id": "7510b5ae",
   "metadata": {
    "tags": []
   },
   "outputs": [],
   "source": [
    "get_inception_v3_pretrained_model = \"https://www.kaggle.com/models/google/inception-v3/frameworks/TensorFlow2/variations/classification/versions/2\""
   ]
  },
  {
   "cell_type": "code",
   "execution_count": 13,
   "id": "5fcb3ddc",
   "metadata": {
    "tags": []
   },
   "outputs": [],
   "source": [
    "inception_v3_pretrained_model = hub.KerasLayer(get_inception_v3_pretrained_model, input_shape=correct_image_shape, trainable=False) "
   ]
  },
  {
   "cell_type": "code",
   "execution_count": 14,
   "id": "0ff4c021",
   "metadata": {
    "run_control": {
     "marked": false
    },
    "tags": []
   },
   "outputs": [],
   "source": [
    "model.add(inception_v3_pretrained_model)\n",
    "\n",
    "model.add(BatchNormalization())\n",
    "\n",
    "model.add(Dense(128, activation='relu'))\n",
    "model.add(BatchNormalization())\n",
    "\n",
    "model.add(Dropout(0.3))\n",
    "\n",
    "model.add(Dense(32, activation='relu'))\n",
    "model.add(BatchNormalization())\n",
    "\n",
    "model.add(Dropout(0.3))\n",
    "\n",
    "model.add(Dense(4, activation='softmax'))"
   ]
  },
  {
   "cell_type": "code",
   "execution_count": 15,
   "id": "b98c8dd9",
   "metadata": {
    "tags": []
   },
   "outputs": [
    {
     "name": "stdout",
     "output_type": "stream",
     "text": [
      "Model: \"sequential\"\n",
      "_________________________________________________________________\n",
      " Layer (type)                Output Shape              Param #   \n",
      "=================================================================\n",
      " keras_layer (KerasLayer)    (None, 1001)              23853833  \n",
      "                                                                 \n",
      " batch_normalization (BatchN  (None, 1001)             4004      \n",
      " ormalization)                                                   \n",
      "                                                                 \n",
      " dense (Dense)               (None, 128)               128256    \n",
      "                                                                 \n",
      " batch_normalization_1 (Batc  (None, 128)              512       \n",
      " hNormalization)                                                 \n",
      "                                                                 \n",
      " dropout (Dropout)           (None, 128)               0         \n",
      "                                                                 \n",
      " dense_1 (Dense)             (None, 32)                4128      \n",
      "                                                                 \n",
      " batch_normalization_2 (Batc  (None, 32)               128       \n",
      " hNormalization)                                                 \n",
      "                                                                 \n",
      " dropout_1 (Dropout)         (None, 32)                0         \n",
      "                                                                 \n",
      " dense_2 (Dense)             (None, 4)                 132       \n",
      "                                                                 \n",
      "=================================================================\n",
      "Total params: 23,990,993\n",
      "Trainable params: 134,838\n",
      "Non-trainable params: 23,856,155\n",
      "_________________________________________________________________\n"
     ]
    }
   ],
   "source": [
    "model.summary()"
   ]
  },
  {
   "cell_type": "code",
   "execution_count": 16,
   "id": "be1deef9",
   "metadata": {
    "tags": []
   },
   "outputs": [],
   "source": [
    "model.compile(loss=CategoricalCrossentropy(), optimizer=Adam(learning_rate=0.00001), metrics=['accuracy'])"
   ]
  },
  {
   "cell_type": "code",
   "execution_count": 17,
   "id": "212a7638",
   "metadata": {
    "tags": []
   },
   "outputs": [
    {
     "name": "stdout",
     "output_type": "stream",
     "text": [
      "Epoch 1/30\n",
      "176/176 [==============================] - 98s 502ms/step - loss: 2.1608 - accuracy: 0.2578 - val_loss: 1.6470 - val_accuracy: 0.3073\n",
      "Epoch 2/30\n",
      "176/176 [==============================] - 75s 425ms/step - loss: 1.8665 - accuracy: 0.3327 - val_loss: 1.4729 - val_accuracy: 0.4196\n",
      "Epoch 3/30\n",
      "176/176 [==============================] - 76s 433ms/step - loss: 1.7041 - accuracy: 0.3669 - val_loss: 1.3376 - val_accuracy: 0.4723\n",
      "Epoch 4/30\n",
      "176/176 [==============================] - 77s 440ms/step - loss: 1.5398 - accuracy: 0.4194 - val_loss: 1.2308 - val_accuracy: 0.5178\n",
      "Epoch 5/30\n",
      "176/176 [==============================] - 110s 628ms/step - loss: 1.4363 - accuracy: 0.4547 - val_loss: 1.1487 - val_accuracy: 0.5605\n",
      "Epoch 6/30\n",
      "176/176 [==============================] - 129s 732ms/step - loss: 1.3431 - accuracy: 0.4887 - val_loss: 1.0890 - val_accuracy: 0.5903\n",
      "Epoch 7/30\n",
      "176/176 [==============================] - 118s 671ms/step - loss: 1.2734 - accuracy: 0.5065 - val_loss: 1.0377 - val_accuracy: 0.6117\n",
      "Epoch 8/30\n",
      "176/176 [==============================] - 120s 680ms/step - loss: 1.2321 - accuracy: 0.5266 - val_loss: 0.9974 - val_accuracy: 0.6316\n",
      "Epoch 9/30\n",
      "176/176 [==============================] - 115s 655ms/step - loss: 1.1864 - accuracy: 0.5544 - val_loss: 0.9631 - val_accuracy: 0.6444\n",
      "Epoch 10/30\n",
      "176/176 [==============================] - 115s 657ms/step - loss: 1.1334 - accuracy: 0.5651 - val_loss: 0.9364 - val_accuracy: 0.6558\n",
      "Epoch 11/30\n",
      "176/176 [==============================] - 101s 572ms/step - loss: 1.1051 - accuracy: 0.5772 - val_loss: 0.9081 - val_accuracy: 0.6629\n",
      "Epoch 12/30\n",
      "176/176 [==============================] - 83s 472ms/step - loss: 1.0704 - accuracy: 0.5861 - val_loss: 0.8826 - val_accuracy: 0.6714\n",
      "Epoch 13/30\n",
      "176/176 [==============================] - 84s 474ms/step - loss: 1.0271 - accuracy: 0.6041 - val_loss: 0.8625 - val_accuracy: 0.6814\n",
      "Epoch 14/30\n",
      "176/176 [==============================] - 82s 463ms/step - loss: 1.0333 - accuracy: 0.5937 - val_loss: 0.8472 - val_accuracy: 0.6799\n",
      "Epoch 15/30\n",
      "176/176 [==============================] - 87s 496ms/step - loss: 1.0116 - accuracy: 0.6087 - val_loss: 0.8266 - val_accuracy: 0.6842\n",
      "Epoch 16/30\n",
      "176/176 [==============================] - 82s 463ms/step - loss: 0.9705 - accuracy: 0.6349 - val_loss: 0.8091 - val_accuracy: 0.6913\n",
      "Epoch 17/30\n",
      "176/176 [==============================] - 76s 430ms/step - loss: 0.9268 - accuracy: 0.6434 - val_loss: 0.7983 - val_accuracy: 0.6927\n",
      "Epoch 18/30\n",
      "176/176 [==============================] - 78s 440ms/step - loss: 0.9222 - accuracy: 0.6441 - val_loss: 0.7892 - val_accuracy: 0.7013\n",
      "Epoch 19/30\n",
      "176/176 [==============================] - 79s 446ms/step - loss: 0.9353 - accuracy: 0.6322 - val_loss: 0.7785 - val_accuracy: 0.7055\n",
      "Epoch 20/30\n",
      "176/176 [==============================] - 77s 439ms/step - loss: 0.8866 - accuracy: 0.6559 - val_loss: 0.7645 - val_accuracy: 0.7141\n",
      "Epoch 21/30\n",
      "176/176 [==============================] - 77s 437ms/step - loss: 0.8736 - accuracy: 0.6610 - val_loss: 0.7482 - val_accuracy: 0.7240\n",
      "Epoch 22/30\n",
      "176/176 [==============================] - 83s 469ms/step - loss: 0.8701 - accuracy: 0.6685 - val_loss: 0.7438 - val_accuracy: 0.7255\n",
      "Epoch 23/30\n",
      "176/176 [==============================] - 81s 462ms/step - loss: 0.8536 - accuracy: 0.6721 - val_loss: 0.7354 - val_accuracy: 0.7269\n",
      "Epoch 24/30\n",
      "176/176 [==============================] - 77s 439ms/step - loss: 0.8371 - accuracy: 0.6803 - val_loss: 0.7269 - val_accuracy: 0.7340\n",
      "Epoch 25/30\n",
      "176/176 [==============================] - 87s 494ms/step - loss: 0.8298 - accuracy: 0.6730 - val_loss: 0.7174 - val_accuracy: 0.7354\n",
      "Epoch 26/30\n",
      "176/176 [==============================] - 87s 491ms/step - loss: 0.8349 - accuracy: 0.6865 - val_loss: 0.7059 - val_accuracy: 0.7425\n",
      "Epoch 27/30\n",
      "176/176 [==============================] - 79s 450ms/step - loss: 0.8188 - accuracy: 0.6842 - val_loss: 0.6967 - val_accuracy: 0.7454\n",
      "Epoch 28/30\n",
      "176/176 [==============================] - 84s 476ms/step - loss: 0.8116 - accuracy: 0.6874 - val_loss: 0.6901 - val_accuracy: 0.7482\n",
      "Epoch 29/30\n",
      "176/176 [==============================] - 83s 473ms/step - loss: 0.7986 - accuracy: 0.6895 - val_loss: 0.6823 - val_accuracy: 0.7496\n",
      "Epoch 30/30\n",
      "176/176 [==============================] - 95s 541ms/step - loss: 0.7785 - accuracy: 0.7041 - val_loss: 0.6762 - val_accuracy: 0.7496\n"
     ]
    }
   ],
   "source": [
    "early_stopping = EarlyStopping(\n",
    "    monitor='val_loss',\n",
    "    patience=3,\n",
    "    restore_best_weights=True\n",
    ")\n",
    "history = model.fit(train_generator, validation_data=val_generator, epochs=30,callbacks=[early_stopping])"
   ]
  },
  {
   "cell_type": "code",
   "execution_count": 18,
   "id": "f232e241",
   "metadata": {
    "tags": []
   },
   "outputs": [],
   "source": [
    "history_df = pd.DataFrame(model.history.history)"
   ]
  },
  {
   "cell_type": "code",
   "execution_count": 19,
   "id": "3f57b843",
   "metadata": {
    "tags": []
   },
   "outputs": [
    {
     "data": {
      "text/plain": [
       "<Axes: >"
      ]
     },
     "execution_count": 19,
     "metadata": {},
     "output_type": "execute_result"
    },
    {
     "data": {
      "image/png": "[encoded data removed]",
      "text/plain": [
       "<Figure size 640x480 with 1 Axes>"
      ]
     },
     "metadata": {},
     "output_type": "display_data"
    }
   ],
   "source": [
    "history_df[['loss', 'val_loss']].plot()"
   ]
  },
  {
   "cell_type": "code",
   "execution_count": 20,
   "id": "7b67bc28",
   "metadata": {
    "tags": []
   },
   "outputs": [
    {
     "data": {
      "text/plain": [
       "<Axes: >"
      ]
     },
     "execution_count": 20,
     "metadata": {},
     "output_type": "execute_result"
    },
    {
     "data": {
      "image/png": "[encoded data removed]",
      "text/plain": [
       "<Figure size 640x480 with 1 Axes>"
      ]
     },
     "metadata": {},
     "output_type": "display_data"
    }
   ],
   "source": [
    "history_df[['accuracy', 'val_accuracy']].plot()"
   ]
  },
  {
   "cell_type": "markdown",
   "id": "49f89dd4",
   "metadata": {},
   "source": [
    "## Evaluating the model"
   ]
  },
  {
   "cell_type": "code",
   "execution_count": 21,
   "id": "26a56806",
   "metadata": {
    "tags": []
   },
   "outputs": [
    {
     "name": "stdout",
     "output_type": "stream",
     "text": [
      "22/22 [==============================] - 3s 112ms/step - loss: 0.5433 - accuracy: 0.7824\n",
      "Test Loss: 0.5433441400527954\n",
      "Test Accuracy: 0.7823613286018372\n"
     ]
    }
   ],
   "source": [
    "test_loss, test_accuracy = model.evaluate(test_generator)\n",
    "\n",
    "print(f'Test Loss: {test_loss}')\n",
    "print(f'Test Accuracy: {test_accuracy}')"
   ]
  },
  {
   "cell_type": "markdown",
   "id": "9fd2e8fd",
   "metadata": {},
   "source": [
    "## Predicting on a sample image"
   ]
  },
  {
   "cell_type": "code",
   "execution_count": 22,
   "id": "bf88ff30",
   "metadata": {
    "tags": []
   },
   "outputs": [],
   "source": [
    "img_path = r'C:\\Users\\abhij\\Desktop\\Image Classification\\braintumordataset\\Testing\\glioma\\Te-gl_0191.JPG'\n",
    "img = image.load_img(img_path, target_size=(224, 224))\n",
    "img_array = image.img_to_array(img)\n",
    "img_array = img_array / 255.0\n",
    "img_array = np.expand_dims(img_array, axis=0)"
   ]
  },
  {
   "cell_type": "code",
   "execution_count": 23,
   "id": "f8c9637d",
   "metadata": {
    "tags": []
   },
   "outputs": [
    {
     "name": "stdout",
     "output_type": "stream",
     "text": [
      "1/1 [==============================] - 2s 2s/step\n",
      "glioma\n"
     ]
    }
   ],
   "source": [
    "predictions = model.predict(img_array)\n",
    "class_names = ['glioma', 'meningioma','notumor','pituitary']\n",
    "predicted_class_index = np.argmax(predictions)\n",
    "predicted_class = class_names[predicted_class_index]\n",
    "print(predicted_class)"
   ]
  }
 ],
 "metadata": {
  "kernelspec": {
   "display_name": "imageclassification",
   "language": "python",
   "name": "imageclassification"
  },
  "language_info": {
   "codemirror_mode": {
    "name": "ipython",
    "version": 3
   },
   "file_extension": ".py",
   "mimetype": "text/x-python",
   "name": "python",
   "nbconvert_exporter": "python",
   "pygments_lexer": "ipython3",
   "version": "3.9.13"
  }
 },
 "nbformat": 4,
 "nbformat_minor": 5
}
